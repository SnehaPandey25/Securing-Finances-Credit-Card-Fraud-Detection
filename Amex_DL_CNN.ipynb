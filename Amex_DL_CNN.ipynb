{
  "cells": [
    {
      "cell_type": "code",
      "execution_count": null,
      "metadata": {
        "colab": {
          "base_uri": "https://localhost:8080/"
        },
        "id": "0SC2Zf-woenR",
        "outputId": "2f4ec702-6c66-4773-cb17-9fd976ccdd94"
      },
      "outputs": [
        {
          "output_type": "stream",
          "name": "stdout",
          "text": [
            "Mounted at /content/drive\n"
          ]
        }
      ],
      "source": [
        "from google.colab import drive\n",
        "drive.mount('/content/drive')"
      ]
    },
    {
      "cell_type": "code",
      "execution_count": null,
      "metadata": {
        "id": "SoDoH55-Ju9X"
      },
      "outputs": [],
      "source": [
        "import pandas as pd\n",
        "from matplotlib import pyplot as plt\n",
        "import numpy as np\n",
        "import seaborn as sns"
      ]
    },
    {
      "cell_type": "code",
      "execution_count": null,
      "metadata": {
        "id": "GFl0zxg0lJwx"
      },
      "outputs": [],
      "source": [
        "data = pd.read_csv(r'/content/drive/MyDrive/creditcard.csv')"
      ]
    },
    {
      "cell_type": "markdown",
      "metadata": {
        "id": "q_MQw9CEfxyn"
      },
      "source": [
        "# **DL CNN**"
      ]
    },
    {
      "cell_type": "code",
      "execution_count": null,
      "metadata": {
        "id": "efCbD2nAf_AM"
      },
      "outputs": [],
      "source": [
        "import numpy as np\n",
        "import pandas as pd\n",
        "from sklearn.preprocessing import StandardScaler\n",
        "from sklearn.model_selection import train_test_split\n",
        "from keras.models import Sequential\n",
        "from keras.layers import Dense, Conv1D, MaxPooling1D, Flatten, LSTM, Dropout\n",
        "from keras.optimizers import Adam\n",
        "from keras.callbacks import EarlyStopping"
      ]
    },
    {
      "cell_type": "code",
      "execution_count": null,
      "metadata": {
        "id": "XNPmYgfCgFb2"
      },
      "outputs": [],
      "source": [
        "# Preprocess the data\n",
        "scaler = StandardScaler()\n",
        "data['normalizedAmount'] = scaler.fit_transform(data['Amount'].values.reshape(-1, 1))\n",
        "data = data.drop(['Time', 'Amount'], axis=1)"
      ]
    },
    {
      "cell_type": "code",
      "execution_count": null,
      "metadata": {
        "id": "fdkAXhy8ysRj"
      },
      "outputs": [],
      "source": [
        "# Split the data into train and test sets\n",
        "X_train, X_test, y_train, y_test = train_test_split(data.drop(['Class'], axis=1), data['Class'], test_size=0.2, random_state=42)"
      ]
    },
    {
      "cell_type": "code",
      "execution_count": null,
      "metadata": {
        "id": "cqOlJuomgITt"
      },
      "outputs": [],
      "source": [
        "# Reshape the data for CNN input\n",
        "X_train = np.reshape(X_train.values, (X_train.shape[0], X_train.shape[1], 1))\n",
        "X_test = np.reshape(X_test.values, (X_test.shape[0], X_test.shape[1], 1))"
      ]
    },
    {
      "cell_type": "code",
      "execution_count": null,
      "metadata": {
        "id": "beQZN2TvghBW"
      },
      "outputs": [],
      "source": [
        "# Define the model\n",
        "model = Sequential()\n",
        "model.add(Conv1D(filters=32, kernel_size=2, activation='relu', input_shape=(29, 1)))\n",
        "model.add(MaxPooling1D(pool_size=2))\n",
        "model.add(LSTM(64, return_sequences=True))\n",
        "model.add(Dropout(0.5))\n",
        "model.add(LSTM(64))\n",
        "model.add(Dropout(0.5))\n",
        "model.add(Dense(1, activation='sigmoid'))"
      ]
    },
    {
      "cell_type": "code",
      "execution_count": null,
      "metadata": {
        "colab": {
          "base_uri": "https://localhost:8080/"
        },
        "id": "5iGZlZBagnj8",
        "outputId": "66f4ac87-8ae3-4a6a-b6ec-fe936ec57aa3"
      },
      "outputs": [
        {
          "output_type": "stream",
          "name": "stderr",
          "text": [
            "/usr/local/lib/python3.10/dist-packages/keras/optimizers/legacy/adam.py:117: UserWarning: The `lr` argument is deprecated, use `learning_rate` instead.\n",
            "  super().__init__(name, **kwargs)\n"
          ]
        },
        {
          "output_type": "stream",
          "name": "stdout",
          "text": [
            "Epoch 1/20\n",
            "1781/1781 [==============================] - 119s 64ms/step - loss: 0.0094 - accuracy: 0.9986 - val_loss: 0.0040 - val_accuracy: 0.9992\n",
            "Epoch 2/20\n",
            "1781/1781 [==============================] - 111s 62ms/step - loss: 0.0041 - accuracy: 0.9993 - val_loss: 0.0037 - val_accuracy: 0.9993\n",
            "Epoch 3/20\n",
            "1781/1781 [==============================] - 109s 61ms/step - loss: 0.0041 - accuracy: 0.9994 - val_loss: 0.0037 - val_accuracy: 0.9994\n",
            "Epoch 4/20\n",
            "1781/1781 [==============================] - 109s 61ms/step - loss: 0.0040 - accuracy: 0.9994 - val_loss: 0.0033 - val_accuracy: 0.9994\n",
            "Epoch 5/20\n",
            "1781/1781 [==============================] - 112s 63ms/step - loss: 0.0038 - accuracy: 0.9993 - val_loss: 0.0037 - val_accuracy: 0.9994\n",
            "Epoch 6/20\n",
            "1781/1781 [==============================] - 109s 61ms/step - loss: 0.0039 - accuracy: 0.9993 - val_loss: 0.0036 - val_accuracy: 0.9994\n",
            "Epoch 7/20\n",
            "1781/1781 [==============================] - 110s 62ms/step - loss: 0.0036 - accuracy: 0.9994 - val_loss: 0.0031 - val_accuracy: 0.9994\n",
            "Epoch 8/20\n",
            "1781/1781 [==============================] - 108s 61ms/step - loss: 0.0035 - accuracy: 0.9994 - val_loss: 0.0032 - val_accuracy: 0.9994\n",
            "Epoch 9/20\n",
            "1781/1781 [==============================] - 109s 61ms/step - loss: 0.0035 - accuracy: 0.9994 - val_loss: 0.0031 - val_accuracy: 0.9994\n",
            "Epoch 10/20\n",
            "1781/1781 [==============================] - 109s 61ms/step - loss: 0.0034 - accuracy: 0.9994 - val_loss: 0.0033 - val_accuracy: 0.9995\n"
          ]
        }
      ],
      "source": [
        "# Compile the model\n",
        "model.compile(optimizer=Adam(lr=0.001), loss='binary_crossentropy', metrics=['accuracy'])\n",
        "\n",
        "# Train the model\n",
        "early_stopping = EarlyStopping(monitor='val_loss', patience=3)\n",
        "history = model.fit(X_train, y_train, validation_data=(X_test, y_test), epochs=20, batch_size=128, callbacks=[early_stopping])"
      ]
    },
    {
      "cell_type": "code",
      "execution_count": null,
      "metadata": {
        "colab": {
          "base_uri": "https://localhost:8080/"
        },
        "id": "ajE3KjdzgrwG",
        "outputId": "d61beacc-8e12-4ef5-86b1-cf3eb3da29eb"
      },
      "outputs": [
        {
          "output_type": "stream",
          "name": "stdout",
          "text": [
            "Test loss: 0.0032724759075790644\n",
            "Test accuracy: 0.9994557499885559\n"
          ]
        }
      ],
      "source": [
        "# Evaluate the model\n",
        "score = model.evaluate(X_test, y_test, verbose=0)\n",
        "print('Test loss:', score[0])\n",
        "print('Test accuracy:', score[1])"
      ]
    },
    {
      "cell_type": "code",
      "execution_count": null,
      "metadata": {
        "colab": {
          "base_uri": "https://localhost:8080/"
        },
        "id": "FYFq3SD8guam",
        "outputId": "e456ced8-86d5-4627-f7a8-ad3305f979b5"
      },
      "outputs": [
        {
          "output_type": "stream",
          "name": "stdout",
          "text": [
            "1781/1781 [==============================] - 13s 7ms/step\n",
            "Confusion matrix:\n",
            "[[56854    10]\n",
            " [   21    77]]\n",
            "\n",
            "Classification report:\n",
            "              precision    recall  f1-score   support\n",
            "\n",
            "           0       1.00      1.00      1.00     56864\n",
            "           1       0.89      0.79      0.83        98\n",
            "\n",
            "    accuracy                           1.00     56962\n",
            "   macro avg       0.94      0.89      0.92     56962\n",
            "weighted avg       1.00      1.00      1.00     56962\n",
            "\n",
            "\n"
          ]
        }
      ],
      "source": [
        "from sklearn.metrics import accuracy_score, confusion_matrix, classification_report, roc_auc_score\n",
        "y_pred = model.predict(X_test)\n",
        "y_pred = np.round(y_pred)\n",
        "print(f\"Confusion matrix:\\n{confusion_matrix(y_test, y_pred)}\\n\")\n",
        "print(f\"Classification report:\\n{classification_report(y_test, y_pred)}\\n\")"
      ]
    },
    {
      "cell_type": "code",
      "execution_count": null,
      "metadata": {
        "colab": {
          "base_uri": "https://localhost:8080/",
          "height": 449
        },
        "id": "3NbEKjN5j3oE",
        "outputId": "5190a409-2fa4-447e-d190-1d3804bacc80"
      },
      "outputs": [
        {
          "output_type": "display_data",
          "data": {
            "text/plain": [
              "<Figure size 640x480 with 1 Axes>"
            ],
            "image/png": "[encoded data removed]"
          },
          "metadata": {}
        }
      ],
      "source": [
        "import matplotlib.pyplot as plt\n",
        "\n",
        "# Plot the training and validation loss vs. epochs\n",
        "plt.plot(history.history['loss'], label='Training Loss')\n",
        "plt.plot(history.history['val_loss'], label='Validation Loss')\n",
        "plt.xlabel('Epochs')\n",
        "plt.ylabel('Loss')\n",
        "plt.legend()\n",
        "plt.show()\n"
      ]
    },
    {
      "cell_type": "code",
      "execution_count": null,
      "metadata": {
        "colab": {
          "base_uri": "https://localhost:8080/",
          "height": 430
        },
        "id": "zdnWdb5umHN4",
        "outputId": "889cadfe-6bad-4f5b-ed8a-f60657d67561"
      },
      "outputs": [
        {
          "output_type": "display_data",
          "data": {
            "text/plain": [
              "<Figure size 640x480 with 1 Axes>"
            ],
            "image/png": "[encoded data removed]"
          },
          "metadata": {}
        }
      ],
      "source": [
        "import matplotlib.pyplot as plt\n",
        "import seaborn as sns\n",
        "\n",
        "# Plot the training and validation loss vs. epochs\n",
        "sns.scatterplot(y_pred, label='y_pred')\n",
        "sns.scatterplot(y_test, label='y_test')\n",
        "plt.legend()\n",
        "plt.show()\n"
      ]
    },
    {
      "cell_type": "code",
      "execution_count": null,
      "metadata": {
        "colab": {
          "base_uri": "https://localhost:8080/"
        },
        "id": "7Kmeq4-4sGSS",
        "outputId": "f4f39a70-9a55-4428-a9c3-356201eaa781"
      },
      "outputs": [
        {
          "output_type": "stream",
          "name": "stdout",
          "text": [
            "Fold 1/5\n",
            "Epoch 1/20\n"
          ]
        },
        {
          "output_type": "stream",
          "name": "stderr",
          "text": [
            "/usr/local/lib/python3.10/dist-packages/keras/optimizers/legacy/adam.py:117: UserWarning: The `lr` argument is deprecated, use `learning_rate` instead.\n",
            "  super().__init__(name, **kwargs)\n"
          ]
        },
        {
          "output_type": "stream",
          "name": "stdout",
          "text": [
            "1781/1781 [==============================] - 121s 65ms/step - loss: 0.0099 - accuracy: 0.9985 - val_loss: 0.0042 - val_accuracy: 0.9992\n",
            "Epoch 2/20\n",
            "1781/1781 [==============================] - 115s 65ms/step - loss: 0.0039 - accuracy: 0.9993 - val_loss: 0.0063 - val_accuracy: 0.9986\n",
            "Epoch 3/20\n",
            "1781/1781 [==============================] - 115s 64ms/step - loss: 0.0039 - accuracy: 0.9994 - val_loss: 0.0039 - val_accuracy: 0.9992\n",
            "Epoch 4/20\n",
            "1781/1781 [==============================] - 115s 64ms/step - loss: 0.0037 - accuracy: 0.9994 - val_loss: 0.0042 - val_accuracy: 0.9993\n",
            "Epoch 5/20\n",
            "1781/1781 [==============================] - 114s 64ms/step - loss: 0.0036 - accuracy: 0.9994 - val_loss: 0.0038 - val_accuracy: 0.9992\n",
            "Epoch 6/20\n",
            "1781/1781 [==============================] - 115s 65ms/step - loss: 0.0036 - accuracy: 0.9994 - val_loss: 0.0039 - val_accuracy: 0.9992\n",
            "Epoch 7/20\n",
            "1781/1781 [==============================] - 116s 65ms/step - loss: 0.0034 - accuracy: 0.9994 - val_loss: 0.0038 - val_accuracy: 0.9992\n",
            "Epoch 8/20\n",
            "1781/1781 [==============================] - 115s 65ms/step - loss: 0.0034 - accuracy: 0.9994 - val_loss: 0.0041 - val_accuracy: 0.9992\n",
            "Fold 1 Test loss: 0.00407504802569747\n",
            "Fold 1 Test accuracy: 0.9991924166679382\n",
            "Fold 2/5\n",
            "Epoch 1/20\n",
            "1781/1781 [==============================] - 114s 64ms/step - loss: 0.0036 - accuracy: 0.9994 - val_loss: 0.0044 - val_accuracy: 0.9994\n",
            "Epoch 2/20\n",
            "1781/1781 [==============================] - 113s 63ms/step - loss: 0.0036 - accuracy: 0.9994 - val_loss: 0.0030 - val_accuracy: 0.9994\n",
            "Epoch 3/20\n",
            "1781/1781 [==============================] - 112s 63ms/step - loss: 0.0036 - accuracy: 0.9994 - val_loss: 0.0030 - val_accuracy: 0.9994\n",
            "Epoch 4/20\n",
            "1780/1781 [============================>.] - ETA: 0s - loss: 0.0036 - accuracy: 0.9993Epoch 5/20\n",
            "1781/1781 [==============================] - 113s 63ms/step - loss: 0.0035 - accuracy: 0.9994 - val_loss: 0.0027 - val_accuracy: 0.9995\n",
            "Epoch 6/20\n",
            "1781/1781 [==============================] - 114s 64ms/step - loss: 0.0033 - accuracy: 0.9994 - val_loss: 0.0026 - val_accuracy: 0.9995\n",
            "Epoch 7/20\n",
            "1780/1781 [============================>.] - ETA: 0s - loss: 0.0033 - accuracy: 0.9994Epoch 8/20\n",
            "1781/1781 [==============================] - 112s 63ms/step - loss: 0.0033 - accuracy: 0.9994 - val_loss: 0.0028 - val_accuracy: 0.9994\n",
            "Epoch 9/20\n",
            "1781/1781 [==============================] - 111s 62ms/step - loss: 0.0031 - accuracy: 0.9994 - val_loss: 0.0031 - val_accuracy: 0.9994\n",
            "Epoch 10/20\n",
            "1781/1781 [==============================] - 110s 62ms/step - loss: 0.0031 - accuracy: 0.9994 - val_loss: 0.0025 - val_accuracy: 0.9995\n",
            "Epoch 11/20\n",
            "1781/1781 [==============================] - 112s 63ms/step - loss: 0.0031 - accuracy: 0.9994 - val_loss: 0.0025 - val_accuracy: 0.9995\n",
            "Epoch 12/20\n",
            "1781/1781 [==============================] - 112s 63ms/step - loss: 0.0030 - accuracy: 0.9995 - val_loss: 0.0024 - val_accuracy: 0.9995\n",
            "Epoch 13/20\n",
            "1781/1781 [==============================] - 111s 62ms/step - loss: 0.0029 - accuracy: 0.9995 - val_loss: 0.0025 - val_accuracy: 0.9994\n",
            "Epoch 14/20\n",
            "1781/1781 [==============================] - 110s 62ms/step - loss: 0.0028 - accuracy: 0.9995 - val_loss: 0.0028 - val_accuracy: 0.9994\n",
            "Epoch 15/20\n",
            "1781/1781 [==============================] - 113s 63ms/step - loss: 0.0027 - accuracy: 0.9995 - val_loss: 0.0023 - val_accuracy: 0.9995\n",
            "Epoch 16/20\n",
            "1781/1781 [==============================] - 111s 63ms/step - loss: 0.0027 - accuracy: 0.9995 - val_loss: 0.0025 - val_accuracy: 0.9995\n",
            "Epoch 17/20\n",
            "1781/1781 [==============================] - 109s 61ms/step - loss: 0.0027 - accuracy: 0.9995 - val_loss: 0.0026 - val_accuracy: 0.9995\n",
            "Epoch 18/20\n",
            "1781/1781 [==============================] - 111s 62ms/step - loss: 0.0026 - accuracy: 0.9995 - val_loss: 0.0025 - val_accuracy: 0.9995\n",
            "Fold 2 Test loss: 0.0024974660482257605\n",
            "Fold 2 Test accuracy: 0.9995084404945374\n",
            "Fold 3/5\n",
            "Epoch 1/20\n",
            "1781/1781 [==============================] - 112s 63ms/step - loss: 0.0027 - accuracy: 0.9995 - val_loss: 0.0018 - val_accuracy: 0.9996\n",
            "Epoch 2/20\n",
            "1781/1781 [==============================] - 108s 61ms/step - loss: 0.0025 - accuracy: 0.9995 - val_loss: 0.0020 - val_accuracy: 0.9995\n",
            "Epoch 3/20\n",
            "1781/1781 [==============================] - 110s 62ms/step - loss: 0.0026 - accuracy: 0.9995 - val_loss: 0.0019 - val_accuracy: 0.9996\n",
            "Epoch 4/20\n",
            "1781/1781 [==============================] - 109s 61ms/step - loss: 0.0025 - accuracy: 0.9995 - val_loss: 0.0022 - val_accuracy: 0.9996\n",
            "Fold 3 Test loss: 0.0021611792035400867\n",
            "Fold 3 Test accuracy: 0.9996137619018555\n",
            "Fold 4/5\n",
            "Epoch 1/20\n",
            "1781/1781 [==============================] - 110s 62ms/step - loss: 0.0025 - accuracy: 0.9995 - val_loss: 0.0023 - val_accuracy: 0.9996\n",
            "Epoch 2/20\n",
            "1781/1781 [==============================] - 110s 62ms/step - loss: 0.0024 - accuracy: 0.9995 - val_loss: 0.0021 - val_accuracy: 0.9996\n",
            "Epoch 3/20\n",
            "1781/1781 [==============================] - 114s 64ms/step - loss: 0.0022 - accuracy: 0.9996 - val_loss: 0.0023 - val_accuracy: 0.9996\n",
            "Epoch 4/20\n",
            "1781/1781 [==============================] - 109s 61ms/step - loss: 0.0022 - accuracy: 0.9995 - val_loss: 0.0022 - val_accuracy: 0.9996\n",
            "Epoch 5/20\n",
            "1781/1781 [==============================] - 110s 62ms/step - loss: 0.0021 - accuracy: 0.9996 - val_loss: 0.0028 - val_accuracy: 0.9995\n",
            "Fold 4 Test loss: 0.0027609318494796753\n",
            "Fold 4 Test accuracy: 0.9995259642601013\n",
            "Fold 5/5\n",
            "Epoch 1/20\n",
            "1781/1781 [==============================] - 112s 63ms/step - loss: 0.0022 - accuracy: 0.9996 - val_loss: 0.0021 - val_accuracy: 0.9996\n",
            "Epoch 2/20\n",
            "1781/1781 [==============================] - 109s 61ms/step - loss: 0.0020 - accuracy: 0.9996 - val_loss: 0.0021 - val_accuracy: 0.9996\n",
            "Epoch 3/20\n",
            "1781/1781 [==============================] - 111s 63ms/step - loss: 0.0020 - accuracy: 0.9996 - val_loss: 0.0022 - val_accuracy: 0.9996\n",
            "Epoch 4/20\n",
            "1781/1781 [==============================] - 112s 63ms/step - loss: 0.0019 - accuracy: 0.9996 - val_loss: 0.0023 - val_accuracy: 0.9995\n",
            "Fold 5 Test loss: 0.002253468381240964\n",
            "Fold 5 Test accuracy: 0.9995259642601013\n"
          ]
        }
      ],
      "source": [
        "from sklearn.model_selection import StratifiedKFold\n",
        "\n",
        "# Split the data into features and target\n",
        "X = data.drop(['Class'], axis=1).values\n",
        "y = data['Class'].values\n",
        "\n",
        "# Define the model\n",
        "model = Sequential()\n",
        "model.add(Conv1D(filters=32, kernel_size=2, activation='relu', input_shape=(29, 1)))\n",
        "model.add(MaxPooling1D(pool_size=2))\n",
        "model.add(LSTM(64, return_sequences=True))\n",
        "model.add(Dropout(0.5))\n",
        "model.add(LSTM(64))\n",
        "model.add(Dropout(0.5))\n",
        "model.add(Dense(1, activation='sigmoid'))\n",
        "\n",
        "# Compile the model\n",
        "model.compile(optimizer=Adam(lr=0.001), loss='binary_crossentropy', metrics=['accuracy'])\n",
        "\n",
        "# Define the number of splits for Stratified K-Fold cross-validation\n",
        "n_splits = 5\n",
        "\n",
        "# Perform Stratified K-Fold cross-validation\n",
        "skf = StratifiedKFold(n_splits=n_splits, shuffle=True, random_state=42)\n",
        "for i, (train_index, test_index) in enumerate(skf.split(X, y)):\n",
        "    print(f'Fold {i+1}/{n_splits}')\n",
        "\n",
        "    # Split the data into train and test sets for the current fold\n",
        "    X_train, X_test = X[train_index], X[test_index]\n",
        "    y_train, y_test = y[train_index], y[test_index]\n",
        "\n",
        "    # Reshape the data for CNN input\n",
        "    X_train = np.reshape(X_train, (X_train.shape[0], X_train.shape[1], 1))\n",
        "    X_test = np.reshape(X_test, (X_test.shape[0], X_test.shape[1], 1))\n",
        "\n",
        "    # Train the model\n",
        "    early_stopping = EarlyStopping(monitor='val_loss', patience=3)\n",
        "    history = model.fit(X_train, y_train, validation_data=(X_test, y_test), epochs=20, batch_size=128, callbacks=[early_stopping])\n",
        "\n",
        "    # Evaluate the model on the current fold\n",
        "    score = model.evaluate(X_test, y_test, verbose=0)\n",
        "    print(f'Fold {i+1} Test loss:', score[0])\n",
        "    print(f'Fold {i+1} Test accuracy:', score[1])\n"
      ]
    }
  ],
  "metadata": {
    "colab": {
      "provenance": []
    },
    "kernelspec": {
      "display_name": "Python 3",
      "name": "python3"
    },
    "language_info": {
      "name": "python"
    }
  },
  "nbformat": 4,
  "nbformat_minor": 0
}