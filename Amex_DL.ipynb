{
  "nbformat": 4,
  "nbformat_minor": 0,
  "metadata": {
    "colab": {
      "provenance": []
    },
    "kernelspec": {
      "name": "python3",
      "display_name": "Python 3"
    },
    "language_info": {
      "name": "python"
    }
  },
  "cells": [
    {
      "cell_type": "code",
      "source": [
        "from google.colab import drive\n",
        "drive.mount('/content/drive')"
      ],
      "metadata": {
        "id": "0SC2Zf-woenR",
        "colab": {
          "base_uri": "https://localhost:8080/"
        },
        "outputId": "6a3937d9-d819-4f26-a04b-628ebdf70657"
      },
      "execution_count": null,
      "outputs": [
        {
          "output_type": "stream",
          "name": "stdout",
          "text": [
            "Mounted at /content/drive\n"
          ]
        }
      ]
    },
    {
      "cell_type": "code",
      "execution_count": null,
      "metadata": {
        "id": "SoDoH55-Ju9X"
      },
      "outputs": [],
      "source": [
        "import pandas as pd\n",
        "from matplotlib import pyplot as plt\n",
        "import numpy as np\n",
        "import seaborn as sns"
      ]
    },
    {
      "cell_type": "code",
      "source": [
        "data = pd.read_csv(r'/content/drive/MyDrive/creditcard.csv')"
      ],
      "metadata": {
        "id": "GFl0zxg0lJwx"
      },
      "execution_count": null,
      "outputs": []
    },
    {
      "cell_type": "code",
      "source": [
        "import numpy as np\n",
        "import pandas as pd\n",
        "from sklearn.preprocessing import StandardScaler\n",
        "from sklearn.model_selection import train_test_split\n",
        "from keras.models import Sequential\n",
        "from keras.layers import Dense, Dropout\n",
        "from keras.optimizers import Adam\n",
        "from keras.callbacks import EarlyStopping"
      ],
      "metadata": {
        "id": "-0bdQaSIc45E"
      },
      "execution_count": null,
      "outputs": []
    },
    {
      "cell_type": "code",
      "source": [
        "# Preprocess the data\n",
        "scaler = StandardScaler()\n",
        "data['normalizedAmount'] = scaler.fit_transform(data['Amount'].values.reshape(-1, 1))\n",
        "data = data.drop(['Time', 'Amount'], axis=1)"
      ],
      "metadata": {
        "id": "l6FnFq1Hc95g"
      },
      "execution_count": null,
      "outputs": []
    },
    {
      "cell_type": "code",
      "source": [
        "# Split the data into train and test sets\n",
        "X_train, X_test, y_train, y_test = train_test_split(data.drop(['Class'], axis=1), data['Class'], test_size=0.2, random_state=42)"
      ],
      "metadata": {
        "id": "Zje0j1G9dEGi"
      },
      "execution_count": null,
      "outputs": []
    },
    {
      "cell_type": "code",
      "source": [
        "# Define the model\n",
        "model = Sequential()\n",
        "model.add(Dense(32, input_shape=(29,), activation='relu'))\n",
        "model.add(Dropout(0.5))\n",
        "model.add(Dense(64, activation='relu'))\n",
        "model.add(Dropout(0.5))\n",
        "model.add(Dense(1, activation='sigmoid'))"
      ],
      "metadata": {
        "id": "AjJy-zRgdJEx"
      },
      "execution_count": null,
      "outputs": []
    },
    {
      "cell_type": "code",
      "source": [
        "# Compile the model\n",
        "model.compile(optimizer=Adam(lr=0.001), loss='binary_crossentropy', metrics=['accuracy'])"
      ],
      "metadata": {
        "colab": {
          "base_uri": "https://localhost:8080/"
        },
        "id": "09vREB4pdRzQ",
        "outputId": "726f09b7-612e-4f23-e518-c1b8e3a3b177"
      },
      "execution_count": null,
      "outputs": [
        {
          "output_type": "stream",
          "name": "stderr",
          "text": [
            "/usr/local/lib/python3.10/dist-packages/keras/optimizers/legacy/adam.py:117: UserWarning: The `lr` argument is deprecated, use `learning_rate` instead.\n",
            "  super().__init__(name, **kwargs)\n"
          ]
        }
      ]
    },
    {
      "cell_type": "code",
      "source": [
        "# Train the model\n",
        "early_stopping = EarlyStopping(monitor='val_loss', patience=3)\n",
        "history = model.fit(X_train, y_train, validation_data=(X_test, y_test), epochs=20, batch_size=128, callbacks=[early_stopping])"
      ],
      "metadata": {
        "colab": {
          "base_uri": "https://localhost:8080/"
        },
        "id": "EPs4LppPdTrL",
        "outputId": "0b41c1b2-2525-4d1e-947d-2031aa372cfe"
      },
      "execution_count": null,
      "outputs": [
        {
          "output_type": "stream",
          "name": "stdout",
          "text": [
            "Epoch 1/20\n",
            "1781/1781 [==============================] - 6s 3ms/step - loss: 0.0283 - accuracy: 0.9939 - val_loss: 0.0043 - val_accuracy: 0.9993\n",
            "Epoch 2/20\n",
            "1781/1781 [==============================] - 9s 5ms/step - loss: 0.0062 - accuracy: 0.9989 - val_loss: 0.0041 - val_accuracy: 0.9993\n",
            "Epoch 3/20\n",
            "1781/1781 [==============================] - 10s 6ms/step - loss: 0.0054 - accuracy: 0.9989 - val_loss: 0.0037 - val_accuracy: 0.9993\n",
            "Epoch 4/20\n",
            "1781/1781 [==============================] - 6s 3ms/step - loss: 0.0049 - accuracy: 0.9990 - val_loss: 0.0035 - val_accuracy: 0.9994\n",
            "Epoch 5/20\n",
            "1781/1781 [==============================] - 5s 3ms/step - loss: 0.0047 - accuracy: 0.9991 - val_loss: 0.0038 - val_accuracy: 0.9993\n",
            "Epoch 6/20\n",
            "1781/1781 [==============================] - 5s 3ms/step - loss: 0.0045 - accuracy: 0.9990 - val_loss: 0.0034 - val_accuracy: 0.9992\n",
            "Epoch 7/20\n",
            "1781/1781 [==============================] - 6s 3ms/step - loss: 0.0042 - accuracy: 0.9991 - val_loss: 0.0031 - val_accuracy: 0.9994\n",
            "Epoch 8/20\n",
            "1781/1781 [==============================] - 4s 3ms/step - loss: 0.0040 - accuracy: 0.9991 - val_loss: 0.0034 - val_accuracy: 0.9993\n",
            "Epoch 9/20\n",
            "1781/1781 [==============================] - 6s 3ms/step - loss: 0.0040 - accuracy: 0.9991 - val_loss: 0.0031 - val_accuracy: 0.9993\n",
            "Epoch 10/20\n",
            "1781/1781 [==============================] - 5s 3ms/step - loss: 0.0038 - accuracy: 0.9992 - val_loss: 0.0030 - val_accuracy: 0.9994\n",
            "Epoch 11/20\n",
            "1781/1781 [==============================] - 5s 3ms/step - loss: 0.0035 - accuracy: 0.9994 - val_loss: 0.0031 - val_accuracy: 0.9994\n",
            "Epoch 12/20\n",
            "1781/1781 [==============================] - 6s 4ms/step - loss: 0.0036 - accuracy: 0.9993 - val_loss: 0.0031 - val_accuracy: 0.9994\n",
            "Epoch 13/20\n",
            "1781/1781 [==============================] - 5s 3ms/step - loss: 0.0034 - accuracy: 0.9993 - val_loss: 0.0032 - val_accuracy: 0.9994\n"
          ]
        }
      ]
    },
    {
      "cell_type": "code",
      "source": [
        "# Evaluate the model\n",
        "score = model.evaluate(X_test, y_test, verbose=0)\n",
        "print('Test loss:', score[0])\n",
        "print('Test accuracy:', score[1])"
      ],
      "metadata": {
        "colab": {
          "base_uri": "https://localhost:8080/"
        },
        "id": "yCzSiGDYdhoy",
        "outputId": "a5b8ec59-2891-4169-cc37-c2774f943164"
      },
      "execution_count": null,
      "outputs": [
        {
          "output_type": "stream",
          "name": "stdout",
          "text": [
            "Test loss: 0.003184532979503274\n",
            "Test accuracy: 0.9993855357170105\n"
          ]
        }
      ]
    },
    {
      "cell_type": "code",
      "source": [
        "from sklearn.metrics import accuracy_score, confusion_matrix, classification_report, roc_auc_score\n",
        "y_pred = model.predict(X_test)\n",
        "y_pred = np.round(y_pred)\n",
        "print(f\"Confusion matrix:\\n{confusion_matrix(y_test, y_pred)}\\n\")\n",
        "print(f\"Classification report:\\n{classification_report(y_test, y_pred)}\\n\")"
      ],
      "metadata": {
        "colab": {
          "base_uri": "https://localhost:8080/"
        },
        "id": "wwcRdDzId0Ev",
        "outputId": "b2dd91a8-b970-4bf1-ab70-8fa6c2e40fdf"
      },
      "execution_count": null,
      "outputs": [
        {
          "output_type": "stream",
          "name": "stdout",
          "text": [
            "1781/1781 [==============================] - 3s 2ms/step\n",
            "Confusion matrix:\n",
            "[[56851    13]\n",
            " [   20    78]]\n",
            "\n",
            "Classification report:\n",
            "              precision    recall  f1-score   support\n",
            "\n",
            "           0       1.00      1.00      1.00     56864\n",
            "           1       0.86      0.80      0.83        98\n",
            "\n",
            "    accuracy                           1.00     56962\n",
            "   macro avg       0.93      0.90      0.91     56962\n",
            "weighted avg       1.00      1.00      1.00     56962\n",
            "\n",
            "\n"
          ]
        }
      ]
    },
    {
      "cell_type": "code",
      "source": [
        "import matplotlib.pyplot as plt\n",
        "\n",
        "# Plot the training and validation loss vs. epochs\n",
        "plt.plot(history.history['loss'], label='Training Loss')\n",
        "plt.plot(history.history['val_loss'], label='Validation Loss')\n",
        "plt.xlabel('Epochs')\n",
        "plt.ylabel('Loss')\n",
        "plt.legend()\n",
        "plt.show()\n"
      ],
      "metadata": {
        "colab": {
          "base_uri": "https://localhost:8080/",
          "height": 453
        },
        "id": "3NbEKjN5j3oE",
        "outputId": "13ae8ef7-99e1-486f-be93-fdf750fdc3af"
      },
      "execution_count": null,
      "outputs": [
        {
          "output_type": "display_data",
          "data": {
            "text/plain": [
              "<Figure size 640x480 with 1 Axes>"
            ],
            "image/png": "[encoded data removed]"
          },
          "metadata": {}
        }
      ]
    },
    {
      "cell_type": "code",
      "source": [
        "import matplotlib.pyplot as plt\n",
        "import seaborn as sns\n",
        "\n",
        "# Plot the training and validation loss vs. epochs\n",
        "sns.scatterplot(y_pred, label='y_pred')\n",
        "sns.scatterplot(y_test, label='y_test')\n",
        "plt.legend()\n",
        "plt.show()\n"
      ],
      "metadata": {
        "colab": {
          "base_uri": "https://localhost:8080/",
          "height": 430
        },
        "id": "zdnWdb5umHN4",
        "outputId": "a414d774-2efe-4704-c4b1-c681102a8fca"
      },
      "execution_count": null,
      "outputs": [
        {
          "output_type": "display_data",
          "data": {
            "text/plain": [
              "<Figure size 640x480 with 1 Axes>"
            ],
            "image/png": "[encoded data removed]"
          },
          "metadata": {}
        }
      ]
    },
    {
      "cell_type": "code",
      "source": [
        "from sklearn.model_selection import StratifiedKFold\n",
        "\n",
        "# Define the number of splits for Stratified validation\n",
        "n_splits = 5\n",
        "\n",
        "# Define the StratifiedKFold object\n",
        "skf = StratifiedKFold(n_splits=n_splits, shuffle=True, random_state=42)\n",
        "\n",
        "# Define the lists to store the results\n",
        "losses = []\n",
        "accuracies = []\n",
        "\n",
        "# Loop over the StratifiedKFold splits\n",
        "for train_index, test_index in skf.split(data.drop(['Class'], axis=1), data['Class']):\n",
        "    # Split the data into train and test sets for the current fold\n",
        "    X_train, X_test = data.drop(['Class'], axis=1).iloc[train_index], data.drop(['Class'], axis=1).iloc[test_index]\n",
        "    y_train, y_test = data['Class'].iloc[train_index], data['Class'].iloc[test_index]\n",
        "\n",
        "    # Define the model\n",
        "    model = Sequential()\n",
        "    model.add(Dense(32, input_shape=(29,), activation='relu'))\n",
        "    model.add(Dropout(0.5))\n",
        "    model.add(Dense(64, activation='relu'))\n",
        "    model.add(Dropout(0.5))\n",
        "    model.add(Dense(1, activation='sigmoid'))\n",
        "\n",
        "    # Compile the model\n",
        "    model.compile(optimizer=Adam(lr=0.001), loss='binary_crossentropy', metrics=['accuracy'])\n",
        "\n",
        "    # Train the model\n",
        "    early_stopping = EarlyStopping(monitor='val_loss', patience=3)\n",
        "    history = model.fit(X_train, y_train, validation_data=(X_test, y_test), epochs=20, batch_size=128, callbacks=[early_stopping])\n",
        "\n",
        "    # Evaluate the model\n",
        "    loss, accuracy = model.evaluate(X_test, y_test, verbose=0)\n",
        "    losses.append(loss)\n",
        "    accuracies.append(accuracy)\n",
        "\n",
        "# Print the average results across all folds\n",
        "print('Average loss:', np.mean(losses))\n",
        "print('Average accuracy:', np.mean(accuracies))\n"
      ],
      "metadata": {
        "colab": {
          "base_uri": "https://localhost:8080/"
        },
        "id": "7Kmeq4-4sGSS",
        "outputId": "a6c968fd-2ef8-4d17-8551-f82cd77bcdc5"
      },
      "execution_count": null,
      "outputs": [
        {
          "metadata": {
            "tags": null
          },
          "name": "stderr",
          "output_type": "stream",
          "text": [
            "/usr/local/lib/python3.10/dist-packages/keras/optimizers/legacy/adam.py:117: UserWarning: The `lr` argument is deprecated, use `learning_rate` instead.\n",
            "  super().__init__(name, **kwargs)\n"
          ]
        },
        {
          "metadata": {
            "tags": null
          },
          "name": "stdout",
          "output_type": "stream",
          "text": [
            "Epoch 1/20\n",
            "1781/1781 [==============================] - 8s 3ms/step - loss: 0.0272 - accuracy: 0.9941 - val_loss: 0.0046 - val_accuracy: 0.9992\n",
            "Epoch 2/20\n",
            "1781/1781 [==============================] - 5s 3ms/step - loss: 0.0052 - accuracy: 0.9989 - val_loss: 0.0043 - val_accuracy: 0.9992\n",
            "Epoch 3/20\n",
            "1781/1781 [==============================] - 7s 4ms/step - loss: 0.0046 - accuracy: 0.9991 - val_loss: 0.0038 - val_accuracy: 0.9992\n",
            "Epoch 4/20\n",
            "1781/1781 [==============================] - 5s 3ms/step - loss: 0.0045 - accuracy: 0.9991 - val_loss: 0.0039 - val_accuracy: 0.9993\n",
            "Epoch 5/20\n",
            "1781/1781 [==============================] - 5s 3ms/step - loss: 0.0044 - accuracy: 0.9991 - val_loss: 0.0038 - val_accuracy: 0.9993\n",
            "Epoch 6/20\n",
            "1781/1781 [==============================] - 6s 3ms/step - loss: 0.0040 - accuracy: 0.9991 - val_loss: 0.0037 - val_accuracy: 0.9993\n",
            "Epoch 7/20\n",
            "1781/1781 [==============================] - 5s 3ms/step - loss: 0.0038 - accuracy: 0.9991 - val_loss: 0.0037 - val_accuracy: 0.9992\n",
            "Epoch 8/20\n",
            "1781/1781 [==============================] - 5s 3ms/step - loss: 0.0039 - accuracy: 0.9991 - val_loss: 0.0037 - val_accuracy: 0.9992\n",
            "Epoch 9/20\n",
            "1781/1781 [==============================] - 6s 3ms/step - loss: 0.0036 - accuracy: 0.9991 - val_loss: 0.0038 - val_accuracy: 0.9992\n"
          ]
        },
        {
          "metadata": {
            "tags": null
          },
          "name": "stderr",
          "output_type": "stream",
          "text": [
            "/usr/local/lib/python3.10/dist-packages/keras/optimizers/legacy/adam.py:117: UserWarning: The `lr` argument is deprecated, use `learning_rate` instead.\n",
            "  super().__init__(name, **kwargs)\n"
          ]
        },
        {
          "metadata": {
            "tags": null
          },
          "name": "stdout",
          "output_type": "stream",
          "text": [
            "Epoch 1/20\n",
            "1781/1781 [==============================] - 6s 3ms/step - loss: 0.0224 - accuracy: 0.9961 - val_loss: 0.0043 - val_accuracy: 0.9989\n",
            "Epoch 2/20\n",
            "1781/1781 [==============================] - 7s 4ms/step - loss: 0.0058 - accuracy: 0.9988 - val_loss: 0.0035 - val_accuracy: 0.9991\n",
            "Epoch 3/20\n",
            "1781/1781 [==============================] - 6s 3ms/step - loss: 0.0051 - accuracy: 0.9988 - val_loss: 0.0032 - val_accuracy: 0.9994\n",
            "Epoch 4/20\n",
            "1781/1781 [==============================] - 7s 4ms/step - loss: 0.0046 - accuracy: 0.9988 - val_loss: 0.0034 - val_accuracy: 0.9994\n",
            "Epoch 5/20\n",
            "1781/1781 [==============================] - 5s 3ms/step - loss: 0.0043 - accuracy: 0.9988 - val_loss: 0.0033 - val_accuracy: 0.9993\n",
            "Epoch 6/20\n",
            "1781/1781 [==============================] - 5s 3ms/step - loss: 0.0042 - accuracy: 0.9987 - val_loss: 0.0031 - val_accuracy: 0.9994\n",
            "Epoch 7/20\n",
            "1781/1781 [==============================] - 6s 3ms/step - loss: 0.0042 - accuracy: 0.9988 - val_loss: 0.0032 - val_accuracy: 0.9994\n",
            "Epoch 8/20\n",
            "1781/1781 [==============================] - 4s 3ms/step - loss: 0.0039 - accuracy: 0.9988 - val_loss: 0.0039 - val_accuracy: 0.9994\n",
            "Epoch 9/20\n",
            "1781/1781 [==============================] - 4s 3ms/step - loss: 0.0040 - accuracy: 0.9989 - val_loss: 0.0035 - val_accuracy: 0.9994\n",
            "Epoch 1/20\n"
          ]
        },
        {
          "metadata": {
            "tags": null
          },
          "name": "stderr",
          "output_type": "stream",
          "text": [
            "/usr/local/lib/python3.10/dist-packages/keras/optimizers/legacy/adam.py:117: UserWarning: The `lr` argument is deprecated, use `learning_rate` instead.\n",
            "  super().__init__(name, **kwargs)\n"
          ]
        },
        {
          "metadata": {
            "tags": null
          },
          "name": "stdout",
          "output_type": "stream",
          "text": [
            "1781/1781 [==============================] - 6s 3ms/step - loss: 0.0270 - accuracy: 0.9944 - val_loss: 0.0044 - val_accuracy: 0.9995\n",
            "Epoch 2/20\n",
            "1781/1781 [==============================] - 6s 3ms/step - loss: 0.0059 - accuracy: 0.9990 - val_loss: 0.0039 - val_accuracy: 0.9994\n",
            "Epoch 3/20\n",
            "1781/1781 [==============================] - 5s 3ms/step - loss: 0.0050 - accuracy: 0.9990 - val_loss: 0.0039 - val_accuracy: 0.9993\n",
            "Epoch 4/20\n",
            "1781/1781 [==============================] - 6s 3ms/step - loss: 0.0046 - accuracy: 0.9991 - val_loss: 0.0036 - val_accuracy: 0.9995\n",
            "Epoch 5/20\n",
            "1781/1781 [==============================] - 5s 3ms/step - loss: 0.0043 - accuracy: 0.9992 - val_loss: 0.0034 - val_accuracy: 0.9995\n",
            "Epoch 6/20\n",
            "1781/1781 [==============================] - 5s 3ms/step - loss: 0.0040 - accuracy: 0.9992 - val_loss: 0.0033 - val_accuracy: 0.9995\n",
            "Epoch 7/20\n",
            "1781/1781 [==============================] - 7s 4ms/step - loss: 0.0041 - accuracy: 0.9991 - val_loss: 0.0037 - val_accuracy: 0.9994\n",
            "Epoch 8/20\n",
            "1781/1781 [==============================] - 5s 3ms/step - loss: 0.0040 - accuracy: 0.9992 - val_loss: 0.0035 - val_accuracy: 0.9994\n",
            "Epoch 9/20\n",
            "1781/1781 [==============================] - 7s 4ms/step - loss: 0.0036 - accuracy: 0.9992 - val_loss: 0.0037 - val_accuracy: 0.9995\n",
            "Epoch 1/20\n"
          ]
        },
        {
          "metadata": {
            "tags": null
          },
          "name": "stderr",
          "output_type": "stream",
          "text": [
            "/usr/local/lib/python3.10/dist-packages/keras/optimizers/legacy/adam.py:117: UserWarning: The `lr` argument is deprecated, use `learning_rate` instead.\n",
            "  super().__init__(name, **kwargs)\n"
          ]
        },
        {
          "output_type": "stream",
          "name": "stdout",
          "text": [
            "1781/1781 [==============================] - 6s 3ms/step - loss: 0.0258 - accuracy: 0.9945 - val_loss: 0.0043 - val_accuracy: 0.9993\n",
            "Epoch 2/20\n",
            "1781/1781 [==============================] - 5s 3ms/step - loss: 0.0054 - accuracy: 0.9988 - val_loss: 0.0043 - val_accuracy: 0.9994\n",
            "Epoch 3/20\n",
            "1781/1781 [==============================] - 5s 3ms/step - loss: 0.0051 - accuracy: 0.9989 - val_loss: 0.0040 - val_accuracy: 0.9991\n",
            "Epoch 4/20\n",
            "1781/1781 [==============================] - 5s 3ms/step - loss: 0.0047 - accuracy: 0.9990 - val_loss: 0.0037 - val_accuracy: 0.9994\n",
            "Epoch 5/20\n",
            "1781/1781 [==============================] - 5s 3ms/step - loss: 0.0042 - accuracy: 0.9990 - val_loss: 0.0039 - val_accuracy: 0.9994\n",
            "Epoch 6/20\n",
            "1781/1781 [==============================] - 6s 3ms/step - loss: 0.0040 - accuracy: 0.9991 - val_loss: 0.0039 - val_accuracy: 0.9994\n",
            "Epoch 7/20\n",
            "1781/1781 [==============================] - 5s 3ms/step - loss: 0.0038 - accuracy: 0.9991 - val_loss: 0.0034 - val_accuracy: 0.9994\n",
            "Epoch 8/20\n",
            "1781/1781 [==============================] - 5s 3ms/step - loss: 0.0037 - accuracy: 0.9992 - val_loss: 0.0034 - val_accuracy: 0.9994\n",
            "Epoch 9/20\n",
            "1781/1781 [==============================] - 6s 3ms/step - loss: 0.0038 - accuracy: 0.9992 - val_loss: 0.0033 - val_accuracy: 0.9994\n",
            "Epoch 10/20\n",
            "1781/1781 [==============================] - 5s 3ms/step - loss: 0.0035 - accuracy: 0.9992 - val_loss: 0.0035 - val_accuracy: 0.9994\n",
            "Epoch 11/20\n",
            "1781/1781 [==============================] - 6s 3ms/step - loss: 0.0035 - accuracy: 0.9992 - val_loss: 0.0033 - val_accuracy: 0.9994\n",
            "Epoch 12/20\n",
            "1781/1781 [==============================] - 5s 3ms/step - loss: 0.0032 - accuracy: 0.9992 - val_loss: 0.0035 - val_accuracy: 0.9994\n",
            "Epoch 13/20\n",
            "1781/1781 [==============================] - 5s 3ms/step - loss: 0.0034 - accuracy: 0.9993 - val_loss: 0.0035 - val_accuracy: 0.9994\n",
            "Epoch 14/20\n",
            "1781/1781 [==============================] - 6s 3ms/step - loss: 0.0035 - accuracy: 0.9992 - val_loss: 0.0036 - val_accuracy: 0.9994\n",
            "Epoch 1/20\n"
          ]
        },
        {
          "output_type": "stream",
          "name": "stderr",
          "text": [
            "/usr/local/lib/python3.10/dist-packages/keras/optimizers/legacy/adam.py:117: UserWarning: The `lr` argument is deprecated, use `learning_rate` instead.\n",
            "  super().__init__(name, **kwargs)\n"
          ]
        },
        {
          "output_type": "stream",
          "name": "stdout",
          "text": [
            "1781/1781 [==============================] - 5s 3ms/step - loss: 0.0184 - accuracy: 0.9966 - val_loss: 0.0057 - val_accuracy: 0.9983\n",
            "Epoch 2/20\n",
            "1781/1781 [==============================] - 6s 3ms/step - loss: 0.0058 - accuracy: 0.9983 - val_loss: 0.0045 - val_accuracy: 0.9983\n",
            "Epoch 3/20\n",
            "1781/1781 [==============================] - 5s 3ms/step - loss: 0.0049 - accuracy: 0.9983 - val_loss: 0.0048 - val_accuracy: 0.9983\n",
            "Epoch 4/20\n",
            "1781/1781 [==============================] - 5s 3ms/step - loss: 0.0044 - accuracy: 0.9991 - val_loss: 0.0050 - val_accuracy: 0.9993\n",
            "Epoch 5/20\n",
            "1781/1781 [==============================] - 5s 3ms/step - loss: 0.0043 - accuracy: 0.9994 - val_loss: 0.0045 - val_accuracy: 0.9994\n",
            "Epoch 6/20\n",
            "1781/1781 [==============================] - 5s 3ms/step - loss: 0.0043 - accuracy: 0.9994 - val_loss: 0.0044 - val_accuracy: 0.9994\n",
            "Epoch 7/20\n",
            "1781/1781 [==============================] - 6s 3ms/step - loss: 0.0039 - accuracy: 0.9994 - val_loss: 0.0045 - val_accuracy: 0.9993\n",
            "Epoch 8/20\n",
            "1781/1781 [==============================] - 5s 3ms/step - loss: 0.0038 - accuracy: 0.9994 - val_loss: 0.0050 - val_accuracy: 0.9993\n",
            "Epoch 9/20\n",
            "1781/1781 [==============================] - 5s 3ms/step - loss: 0.0040 - accuracy: 0.9993 - val_loss: 0.0040 - val_accuracy: 0.9994\n",
            "Epoch 10/20\n",
            "1781/1781 [==============================] - 5s 3ms/step - loss: 0.0040 - accuracy: 0.9994 - val_loss: 0.0044 - val_accuracy: 0.9994\n",
            "Epoch 11/20\n",
            "1781/1781 [==============================] - 5s 3ms/step - loss: 0.0038 - accuracy: 0.9994 - val_loss: 0.0046 - val_accuracy: 0.9993\n",
            "Epoch 12/20\n",
            "1781/1781 [==============================] - 6s 3ms/step - loss: 0.0039 - accuracy: 0.9994 - val_loss: 0.0042 - val_accuracy: 0.9993\n",
            "Average loss: 0.003760662442073226\n",
            "Average accuracy: 0.9993609547615051\n"
          ]
        }
      ]
    }
  ]
}